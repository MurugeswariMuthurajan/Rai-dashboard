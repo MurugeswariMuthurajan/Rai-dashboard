{
  "cells": [
    {
      "cell_type": "markdown",
      "source": [
        "# Defining Model Id"
      ],
      "metadata": {
        "nteract": {
          "transient": {
            "deleting": false
          }
        }
      }
    },
    {
      "cell_type": "code",
      "source": [
        "# Replace with your Model Name\r\n",
        "expected_model_id = \"rai_programmer_example_reg_1666334612:1\"\r\n",
        "azureml_model_id = f'azureml:{expected_model_id}'"
      ],
      "outputs": [],
      "execution_count": 23,
      "metadata": {
        "jupyter": {
          "source_hidden": false,
          "outputs_hidden": false
        },
        "nteract": {
          "transient": {
            "deleting": false
          }
        },
        "gather": {
          "logged": 1666780264964
        }
      }
    },
    {
      "cell_type": "markdown",
      "source": [
        "# Defining the Versions"
      ],
      "metadata": {
        "nteract": {
          "transient": {
            "deleting": false
          }
        }
      }
    },
    {
      "cell_type": "code",
      "source": [
        "version_string = '1'"
      ],
      "outputs": [],
      "execution_count": 24,
      "metadata": {
        "jupyter": {
          "source_hidden": false,
          "outputs_hidden": false
        },
        "nteract": {
          "transient": {
            "deleting": false
          }
        },
        "gather": {
          "logged": 1666780267588
        }
      }
    },
    {
      "cell_type": "code",
      "source": [
        "rai_programmer_example_version_string = '5'"
      ],
      "outputs": [],
      "execution_count": 25,
      "metadata": {
        "jupyter": {
          "source_hidden": false,
          "outputs_hidden": false
        },
        "nteract": {
          "transient": {
            "deleting": false
          }
        },
        "gather": {
          "logged": 1666780268658
        }
      }
    },
    {
      "cell_type": "markdown",
      "source": [
        "# Defining the Compute"
      ],
      "metadata": {
        "nteract": {
          "transient": {
            "deleting": false
          }
        }
      }
    },
    {
      "cell_type": "code",
      "source": [
        "# Replace with your Compute Name\r\n",
        "compute_name = \"aiml-cpu\""
      ],
      "outputs": [],
      "execution_count": 26,
      "metadata": {
        "jupyter": {
          "source_hidden": false,
          "outputs_hidden": false
        },
        "nteract": {
          "transient": {
            "deleting": false
          }
        },
        "gather": {
          "logged": 1666780271358
        }
      }
    },
    {
      "cell_type": "markdown",
      "source": [
        "# Importing Necessary Packages"
      ],
      "metadata": {
        "nteract": {
          "transient": {
            "deleting": false
          }
        }
      }
    },
    {
      "cell_type": "code",
      "source": [
        "import os\r\n",
        "import pandas as pd"
      ],
      "outputs": [],
      "execution_count": 5,
      "metadata": {
        "jupyter": {
          "source_hidden": false,
          "outputs_hidden": false
        },
        "nteract": {
          "transient": {
            "deleting": false
          }
        },
        "gather": {
          "logged": 1666780088751
        }
      }
    },
    {
      "cell_type": "markdown",
      "source": [
        "# Defining File Paths"
      ],
      "metadata": {
        "nteract": {
          "transient": {
            "deleting": false
          }
        }
      }
    },
    {
      "cell_type": "code",
      "source": [
        "train_data_path = 'data-programmer-regression/train/'"
      ],
      "outputs": [],
      "execution_count": 27,
      "metadata": {
        "jupyter": {
          "source_hidden": false,
          "outputs_hidden": false
        },
        "nteract": {
          "transient": {
            "deleting": false
          }
        },
        "gather": {
          "logged": 1666780274962
        }
      }
    },
    {
      "cell_type": "markdown",
      "source": [
        "# Defining Input Train and Test Files"
      ],
      "metadata": {
        "nteract": {
          "transient": {
            "deleting": false
          }
        }
      }
    },
    {
      "cell_type": "code",
      "source": [
        "test_data_path = 'data-programmer-regression/test/'"
      ],
      "outputs": [],
      "execution_count": 28,
      "metadata": {
        "jupyter": {
          "source_hidden": false,
          "outputs_hidden": false
        },
        "nteract": {
          "transient": {
            "deleting": false
          }
        },
        "gather": {
          "logged": 1666780276538
        }
      }
    },
    {
      "cell_type": "markdown",
      "source": [
        "# Defining Target Columns"
      ],
      "metadata": {
        "nteract": {
          "transient": {
            "deleting": false
          }
        }
      }
    },
    {
      "cell_type": "code",
      "source": [
        "target_column_name = \"score\""
      ],
      "outputs": [],
      "execution_count": 29,
      "metadata": {
        "jupyter": {
          "source_hidden": false,
          "outputs_hidden": false
        },
        "nteract": {
          "transient": {
            "deleting": false
          }
        },
        "gather": {
          "logged": 1666780278015
        }
      }
    },
    {
      "cell_type": "markdown",
      "source": [
        "# Configuring Workspace connections"
      ],
      "metadata": {
        "nteract": {
          "transient": {
            "deleting": false
          }
        }
      }
    },
    {
      "cell_type": "code",
      "source": [
        "from azure.ai.ml import MLClient\r\n",
        "from azure.identity import DefaultAzureCredential\r\n",
        "ml_client = MLClient.from_config(credential=DefaultAzureCredential(exclude_shared_token_cache_credential=True),\r\n",
        "                     logging_enable=True)"
      ],
      "outputs": [],
      "execution_count": null,
      "metadata": {
        "jupyter": {
          "source_hidden": false,
          "outputs_hidden": false
        },
        "nteract": {
          "transient": {
            "deleting": false
          }
        }
      }
    },
    {
      "cell_type": "markdown",
      "source": [
        "# Defining Input train and test files"
      ],
      "metadata": {
        "nteract": {
          "transient": {
            "deleting": false
          }
        }
      }
    },
    {
      "cell_type": "code",
      "source": [
        "input_train_data = \"Programmers_Train_MLTable\"\r\n",
        "input_test_data = \"Programmers_Test_MLTable\"\r\n"
      ],
      "outputs": [],
      "execution_count": 31,
      "metadata": {
        "jupyter": {
          "source_hidden": false,
          "outputs_hidden": false
        },
        "nteract": {
          "transient": {
            "deleting": false
          }
        },
        "gather": {
          "logged": 1666780283426
        }
      }
    },
    {
      "cell_type": "markdown",
      "source": [
        "# Loading RAI Components"
      ],
      "metadata": {
        "nteract": {
          "transient": {
            "deleting": false
          }
        }
      }
    },
    {
      "cell_type": "code",
      "source": [
        "rai_constructor_component = ml_client.components.get(\r\n",
        "    name=\"rai_insights_constructor\", version=version_string\r\n",
        ")\r\n",
        "\r\n",
        "rai_explanation_component = ml_client.components.get(\r\n",
        "    name=\"rai_insights_explanation\", version=version_string\r\n",
        ")\r\n",
        "\r\n",
        "rai_causal_component = ml_client.components.get(\r\n",
        "    name=\"rai_insights_causal\", version=version_string\r\n",
        ")\r\n",
        "\r\n",
        "rai_counterfactual_component = ml_client.components.get(\r\n",
        "    name=\"rai_insights_counterfactual\", version=version_string\r\n",
        ")\r\n",
        "\r\n",
        "rai_erroranalysis_component = ml_client.components.get(\r\n",
        "    name=\"rai_insights_erroranalysis\", version=version_string\r\n",
        ")\r\n",
        "\r\n",
        "rai_gather_component = ml_client.components.get(\r\n",
        "    name=\"rai_insights_gather\", version=version_string\r\n",
        ")\r\n",
        "\r\n",
        "rai_scorecard_component = ml_client.components.get(\r\n",
        "    name=\"rai_score_card\", version=version_string\r\n",
        ")"
      ],
      "outputs": [],
      "execution_count": 32,
      "metadata": {
        "jupyter": {
          "source_hidden": false,
          "outputs_hidden": false
        },
        "nteract": {
          "transient": {
            "deleting": false
          }
        },
        "gather": {
          "logged": 1666780288723
        }
      }
    },
    {
      "cell_type": "markdown",
      "source": [
        "# Score card generation config"
      ],
      "metadata": {
        "nteract": {
          "transient": {
            "deleting": false
          }
        }
      }
    },
    {
      "cell_type": "code",
      "source": [
        "import json\r\n",
        "\r\n",
        "score_card_config_dict = {\r\n",
        "  \"Model\": {\r\n",
        "    \"ModelName\": \"GPT2 Access\",\r\n",
        "    \"ModelType\": \"Regression\",\r\n",
        "    \"ModelSummary\": \"This is a regression model to analyzer how likely a programmer is given access to gpt 2\"\r\n",
        "  },\r\n",
        "  \"Metrics\": {\r\n",
        "    \"mean_absolute_error\": {\r\n",
        "      \"threshold\": \"<=20\"\r\n",
        "    },\r\n",
        "    \"mean_squared_error\": {}\r\n",
        "  },\r\n",
        "  \"FeatureImportance\": {\r\n",
        "    \"top_n\": 6\r\n",
        "  },\r\n",
        "  \"DataExplorer\": {\r\n",
        "    \"features\": [\r\n",
        "      \"YOE\",\r\n",
        "      \"age\"\r\n",
        "    ]\r\n",
        "  },\r\n",
        "  \"Fairness\": {\r\n",
        "    \"metric\": [\"mean_squared_error\", \"mean_absolute_error\"],\r\n",
        "    \"sensitive_features\": [\"IDE\", \"style\"],\r\n",
        "    \"fairness_evaluation_kind\": \"difference\"\r\n",
        "  }\r\n",
        "}\r\n",
        "\r\n",
        "score_card_config_filename = \"rai_programmer_regression_score_card_config.json\"\r\n",
        "\r\n",
        "with open(score_card_config_filename, 'w') as f:\r\n",
        "    json.dump(score_card_config_dict, f)"
      ],
      "outputs": [],
      "execution_count": 33,
      "metadata": {
        "jupyter": {
          "source_hidden": false,
          "outputs_hidden": false
        },
        "nteract": {
          "transient": {
            "deleting": false
          }
        },
        "gather": {
          "logged": 1666780291293
        }
      }
    },
    {
      "cell_type": "markdown",
      "source": [
        "# Coverting to JSON Components"
      ],
      "metadata": {
        "nteract": {
          "transient": {
            "deleting": false
          }
        }
      }
    },
    {
      "cell_type": "code",
      "source": [
        "import json\r\n",
        "from azure.ai.ml import dsl,Input\r\n",
        "from azure.ai.ml.constants import AssetTypes\r\n",
        "\r\n",
        "score_card_config_path = Input(\r\n",
        "    type=\"uri_file\",\r\n",
        "    path=score_card_config_filename,\r\n",
        "    mode=\"download\"\r\n",
        ")\r\n",
        "\r\n",
        "categorical_columns = json.dumps([\"location\", \"style\", \"job title\", \"OS\", \"Employer\", \"IDE\", \"Programming language\"])\r\n",
        "treatment_features = json.dumps([\"Number of github repos contributed to\", \"YOE\"])\r\n",
        "desired_range = json.dumps([5, 10])\r\n",
        "filter_columns = json.dumps([\"style\", \"Employer\"])\r\n",
        "\r\n",
        "@dsl.pipeline(\r\n",
        "        compute=compute_name,\r\n",
        "        description=\"Example RAI computation on programmers data\",\r\n",
        "        experiment_name=f\"RAI_Programmers_Example_RAIInsights_Computation\",\r\n",
        "    )\r\n",
        "def rai_programmer_regression_pipeline(\r\n",
        "        target_column_name,\r\n",
        "        train_data,\r\n",
        "        test_data,\r\n",
        "        score_card_config_path,\r\n",
        "    ):\r\n",
        "        # Initiate the RAIInsights\r\n",
        "        create_rai_job = rai_constructor_component(\r\n",
        "            title=\"RAI Dashboard Example\",\r\n",
        "            task_type=\"regression\",\r\n",
        "            model_info=expected_model_id,\r\n",
        "            model_input=Input(type=AssetTypes.MLFLOW_MODEL, path=azureml_model_id),\r\n",
        "            train_dataset=train_data,\r\n",
        "            test_dataset=test_data,\r\n",
        "            target_column_name=target_column_name,\r\n",
        "            categorical_column_names=categorical_columns\r\n",
        "        )\r\n",
        "        create_rai_job.set_limits(timeout=120)\r\n",
        "        \r\n",
        "        # Add an explanation\r\n",
        "        explain_job = rai_explanation_component(\r\n",
        "            comment=\"Explanation for the programmers dataset\",\r\n",
        "            rai_insights_dashboard=create_rai_job.outputs.rai_insights_dashboard,\r\n",
        "        )\r\n",
        "        explain_job.set_limits(timeout=120)\r\n",
        "        \r\n",
        "        # Add causal analysis\r\n",
        "        causal_job = rai_causal_component(\r\n",
        "            rai_insights_dashboard=create_rai_job.outputs.rai_insights_dashboard,\r\n",
        "            treatment_features=treatment_features,\r\n",
        "        )\r\n",
        "        causal_job.set_limits(timeout=180)\r\n",
        "        \r\n",
        "        # Add counterfactual analysis\r\n",
        "        counterfactual_job = rai_counterfactual_component(\r\n",
        "            rai_insights_dashboard=create_rai_job.outputs.rai_insights_dashboard,\r\n",
        "            total_cfs=10,\r\n",
        "            desired_range=desired_range\r\n",
        "        )\r\n",
        "        counterfactual_job.set_limits(timeout=600)\r\n",
        "        \r\n",
        "        # Add error analysis\r\n",
        "        erroranalysis_job = rai_erroranalysis_component(\r\n",
        "            rai_insights_dashboard=create_rai_job.outputs.rai_insights_dashboard,\r\n",
        "            filter_features=filter_columns\r\n",
        "        )\r\n",
        "        erroranalysis_job.set_limits(timeout=120)\r\n",
        "        \r\n",
        "        # Combine everything\r\n",
        "        rai_gather_job = rai_gather_component(\r\n",
        "            constructor=create_rai_job.outputs.rai_insights_dashboard,\r\n",
        "            insight_1=explain_job.outputs.explanation,\r\n",
        "            insight_2=causal_job.outputs.causal,\r\n",
        "            insight_3=counterfactual_job.outputs.counterfactual,\r\n",
        "            insight_4=erroranalysis_job.outputs.error_analysis,\r\n",
        "        )\r\n",
        "        rai_gather_job.set_limits(timeout=120)\r\n",
        "\r\n",
        "        rai_gather_job.outputs.dashboard.mode = \"upload\"\r\n",
        "        rai_gather_job.outputs.ux_json.mode = \"upload\"\r\n",
        "\r\n",
        "        # Generate score card in pdf format for a summary report on model performance,\r\n",
        "        # and observe distrbution of error between prediction vs ground truth.\r\n",
        "        rai_scorecard_job = rai_scorecard_component(\r\n",
        "            dashboard=rai_gather_job.outputs.dashboard,\r\n",
        "            pdf_generation_config=score_card_config_path\r\n",
        "        )\r\n",
        "\r\n",
        "        return {\r\n",
        "            \"dashboard\": rai_gather_job.outputs.dashboard,\r\n",
        "            \"ux_json\": rai_gather_job.outputs.ux_json,\r\n",
        "            \"scorecard\": rai_scorecard_job.outputs.scorecard\r\n",
        "        }"
      ],
      "outputs": [],
      "execution_count": 34,
      "metadata": {
        "jupyter": {
          "source_hidden": false,
          "outputs_hidden": false
        },
        "nteract": {
          "transient": {
            "deleting": false
          }
        },
        "gather": {
          "logged": 1666780295819
        }
      }
    },
    {
      "cell_type": "markdown",
      "source": [
        "# Defining Train and Test Files"
      ],
      "metadata": {
        "nteract": {
          "transient": {
            "deleting": false
          }
        }
      }
    },
    {
      "cell_type": "code",
      "source": [
        "programmers_train_mltable = Input(\r\n",
        "    type=\"mltable\", path=f\"{input_train_data}:{rai_programmer_example_version_string}\", mode=\"download\"\r\n",
        ")\r\n",
        "programmers_test_mltable = Input(\r\n",
        "    type=\"mltable\", path=f\"{input_test_data}:{rai_programmer_example_version_string}\", mode=\"download\"\r\n",
        ")"
      ],
      "outputs": [],
      "execution_count": 35,
      "metadata": {
        "jupyter": {
          "source_hidden": false,
          "outputs_hidden": false
        },
        "nteract": {
          "transient": {
            "deleting": false
          }
        },
        "gather": {
          "logged": 1666780301634
        }
      }
    },
    {
      "cell_type": "markdown",
      "source": [
        "# Defining Pipeline Objects"
      ],
      "metadata": {
        "nteract": {
          "transient": {
            "deleting": false
          }
        }
      }
    },
    {
      "cell_type": "code",
      "source": [
        "import uuid\r\n",
        "from azure.ai.ml import Output\r\n",
        "\r\n",
        "insights_pipeline_job = rai_programmer_regression_pipeline(\r\n",
        "    target_column_name=target_column_name,\r\n",
        "    train_data=programmers_train_mltable,\r\n",
        "    test_data=programmers_test_mltable,\r\n",
        "    score_card_config_path=score_card_config_path,\r\n",
        ")\r\n",
        "\r\n",
        "rand_path = str(uuid.uuid4())\r\n",
        "insights_pipeline_job.outputs.dashboard = Output(\r\n",
        "    path=f\"azureml://datastores/workspaceblobstore/paths/{rand_path}/dashboard/\",\r\n",
        "    mode=\"upload\",\r\n",
        "    type=\"uri_folder\",\r\n",
        ")\r\n",
        "insights_pipeline_job.outputs.ux_json = Output(\r\n",
        "    path=f\"azureml://datastores/workspaceblobstore/paths/{rand_path}/ux_json/\",\r\n",
        "    mode=\"upload\",\r\n",
        "    type=\"uri_folder\",\r\n",
        ")\r\n",
        "insights_pipeline_job.outputs.scorecard = Output(\r\n",
        "    path=f\"azureml://datastores/workspaceblobstore/paths/{rand_path}/scorecard/\",\r\n",
        "    mode=\"upload\",\r\n",
        "    type=\"uri_folder\",\r\n",
        ")"
      ],
      "outputs": [],
      "execution_count": 36,
      "metadata": {
        "jupyter": {
          "source_hidden": false,
          "outputs_hidden": false
        },
        "nteract": {
          "transient": {
            "deleting": false
          }
        },
        "gather": {
          "logged": 1666780304804
        }
      }
    },
    {
      "cell_type": "markdown",
      "source": [
        "# Submiting the pipeline to AzureML for execution"
      ],
      "metadata": {
        "nteract": {
          "transient": {
            "deleting": false
          }
        }
      }
    },
    {
      "cell_type": "code",
      "source": [
        "from azure.ai.ml.entities import PipelineJob\r\n",
        "from azure.ai.ml import Input\r\n",
        "\r\n",
        "def submit_and_wait(ml_client, pipeline_job) -> PipelineJob:\r\n",
        "    created_job = ml_client.jobs.create_or_update(pipeline_job)\r\n",
        "    assert created_job is not None\r\n",
        "\r\n",
        "    while created_job.status not in ['Completed', 'Failed', 'Canceled', 'NotResponding']:\r\n",
        "        time.sleep(30)\r\n",
        "        created_job = ml_client.jobs.get(created_job.name)\r\n",
        "        print(\"Latest status : {0}\".format(created_job.status))\r\n",
        "    assert created_job.status == 'Completed'\r\n",
        "    return created_job\r\n",
        "    \r\n",
        "insights_job = submit_and_wait(ml_client, insights_pipeline_job)"
      ],
      "outputs": [],
      "execution_count": null,
      "metadata": {
        "jupyter": {
          "source_hidden": false,
          "outputs_hidden": false
        },
        "nteract": {
          "transient": {
            "deleting": false
          }
        }
      }
    },
    {
      "cell_type": "markdown",
      "source": [
        "# Expected URI"
      ],
      "metadata": {
        "nteract": {
          "transient": {
            "deleting": false
          }
        }
      }
    },
    {
      "cell_type": "code",
      "source": [
        "sub_id = ml_client._operation_scope.subscription_id\r\n",
        "rg_name = ml_client._operation_scope.resource_group_name\r\n",
        "ws_name = ml_client.workspace_name\r\n",
        "\r\n",
        "expected_uri = f\"https://ml.azure.com/model/{expected_model_id}/model_analysis?wsid=/subscriptions/{sub_id}/resourcegroups/{rg_name}/workspaces/{ws_name}\"\r\n",
        "\r\n",
        "print(f\"Please visit {expected_uri} to see your analysis\")"
      ],
      "outputs": [],
      "execution_count": null,
      "metadata": {
        "jupyter": {
          "source_hidden": false,
          "outputs_hidden": false
        },
        "nteract": {
          "transient": {
            "deleting": false
          }
        }
      }
    },
    {
      "cell_type": "markdown",
      "source": [
        "# Downloading the Scorecard PDF"
      ],
      "metadata": {
        "nteract": {
          "transient": {
            "deleting": false
          }
        }
      }
    },
    {
      "cell_type": "code",
      "source": [
        "target_directory = \".\"\r\n",
        "\r\n",
        "ml_client.jobs.download(\r\n",
        "    insights_job.name, download_path=target_directory, output_name=\"scorecard\"\r\n",
        ")"
      ],
      "outputs": [],
      "execution_count": null,
      "metadata": {
        "jupyter": {
          "source_hidden": false,
          "outputs_hidden": false
        },
        "nteract": {
          "transient": {
            "deleting": false
          }
        }
      }
    },
    {
      "cell_type": "code",
      "source": [],
      "outputs": [],
      "execution_count": null,
      "metadata": {
        "jupyter": {
          "source_hidden": false,
          "outputs_hidden": false
        },
        "nteract": {
          "transient": {
            "deleting": false
          }
        }
      }
    }
  ],
  "metadata": {
    "kernelspec": {
      "name": "python38-azureml",
      "language": "python",
      "display_name": "Python 3.8 - AzureML"
    },
    "language_info": {
      "name": "python",
      "version": "3.8.5",
      "mimetype": "text/x-python",
      "codemirror_mode": {
        "name": "ipython",
        "version": 3
      },
      "pygments_lexer": "ipython3",
      "nbconvert_exporter": "python",
      "file_extension": ".py"
    },
    "kernel_info": {
      "name": "python38-azureml"
    },
    "nteract": {
      "version": "nteract-front-end@1.0.0"
    },
    "microsoft": {
      "host": {
        "AzureML": {
          "notebookHasBeenCompleted": true
        }
      }
    }
  },
  "nbformat": 4,
  "nbformat_minor": 2
}